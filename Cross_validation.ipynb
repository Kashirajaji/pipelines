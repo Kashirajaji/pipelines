{
  "nbformat": 4,
  "nbformat_minor": 0,
  "metadata": {
    "colab": {
      "provenance": [],
      "collapsed_sections": [],
      "include_colab_link": true
    },
    "kernelspec": {
      "name": "python3",
      "display_name": "Python 3"
    },
    "language_info": {
      "name": "python"
    }
  },
  "cells": [
    {
      "cell_type": "markdown",
      "metadata": {
        "id": "view-in-github",
        "colab_type": "text"
      },
      "source": [
        "<a href=\"https://colab.research.google.com/github/Kashirajaji/pipelines/blob/main/Cross_validation.ipynb\" target=\"_parent\"><img src=\"https://colab.research.google.com/assets/colab-badge.svg\" alt=\"Open In Colab\"/></a>"
      ]
    },
    {
      "cell_type": "markdown",
      "source": [
        "#Cross-Validation\n",
        "\n",
        "Como vimos recientemente en la teoria , podemos ver que es necesario evaluar el tema de overfitting y underfitting\n",
        "\n",
        "Como vimos recien el tema del tradeoff entre bias y variance , y gracias a eso podemos observar cuando uno de nuestros modelos esta sufriendo over o under fitting. \n",
        "\n",
        "Para poder ayudar a mejor y no obtener overfittin uno de los metodos mas usados y generalmente apreciado a usar casi siempre es poder hacer CrossValidation dentro del conjunto train\n",
        "\n",
        "Aqui vamso a evaluar varias formas de poder trabajarlo"
      ],
      "metadata": {
        "id": "iW68bTmyEZfc"
      }
    },
    {
      "cell_type": "markdown",
      "source": [
        "## Breve recordatorio\n",
        "\n",
        "Para poder definir que nuestro algoritmo sufre de algunos de estos comportamientos , nosotros evaluamos dos metricas que son el Bias y el Variance\n",
        "\n",
        "BIAS : es un tipo de error que indica la diferencia que existe entre la predicción del modelo y el valor actual\n",
        "\n",
        "VARIANCE : Este error lo podemos entender como que tan sensible es nuestro modelo a los datos,  cambiando y evlaunado diferentes tipos de datos a validar vemos como cambia su perfromance \n",
        "\n",
        "Ejemplo de lo que puede suceder\n",
        "\n",
        "- ***Ejemplo 1: Overfitting, low bias and high variance***\n",
        "\n",
        "    - Training error = 1%\n",
        "\n",
        "    - Validation error = 11%\n",
        "\n",
        "Este algoritmo tiene un low bias (1%) pero sufre de high variance (10%). El clasificador tiene un bajo training error, pero falla al generalizar sobre el validation set.\n",
        "\n",
        "- ***Ejemplo 2: Underfitting, high bias and low variance***\n",
        "\n",
        "    - Training error = 15%\n",
        "\n",
        "    - Validation error = 16%\n",
        "\n",
        "Aquí el bias es 15% y el variance es 1%. El clasificador se ajusta pobremente sobre el conjunto de entrenamiento con un 15% de error (underfitting), pero el error sobre el validation set es sólo un poco más alto que éste.\n",
        "\n",
        "- ***Ejemplo 3: High bias and high variance***\n",
        "\n",
        "    - Training error = 15%\n",
        "\n",
        "    - Validation error = 30%\n",
        "\n",
        "Aquí el bias es 15%, y el variance es 15%. Este clasificador presenta un bajo rendimiento sobre el conjunto de entrenamiento (high bias), y una performance aún peor sobre el validation set (high variance).\n",
        "\n",
        "- ***Ejemplo 4: Buen clasificador, low bias and low variance***\n",
        "\n",
        "    - Training error = 0,5%\n",
        "\n",
        "    - Validation error = 1%\n",
        "\n",
        "Este es  un ejemplo de un buen clasificador, con low bias y low variance.\n",
        "\n"
      ],
      "metadata": {
        "id": "8sQnoFxQrEam"
      }
    },
    {
      "cell_type": "markdown",
      "source": [
        "En base a esta info tenemos un prevencion a tomar en cuenta\n",
        "\n",
        "Formas de prevenir el underfitting:\n",
        "\n",
        "- Tratar los datos correctamente, eliminando outliers y variables innecesarias.\n",
        "- Utilizar modelos más complejos.\n",
        "- Ajustar los parámetros de nuestros modelos.\n",
        "- Aumentar las iteraciones en los algoritmos iterativos\n",
        "\n",
        "Formas de prevenir el overfitting:\n",
        "\n",
        "- Dividir nuestros datos en training, validación y testing.\n",
        "- Obtener un mayor número de datos.\n",
        "- Ajustar los parámetros de nuestros modelos.\n",
        "- Utilizar modelos más simples.\n",
        "- Los datos vienen de distintas distribuciones.\n",
        "- Bajar el número de iteraciones en los algoritmos iterativos.\n",
        "\n",
        "![flujo](https://intermediait.com/wp-content/uploads/2019/12/Flujo-de-trabajo-para-reducir-el-BIAS-y-VARIANCE.png)\n"
      ],
      "metadata": {
        "id": "B9YQbj8ou23O"
      }
    },
    {
      "cell_type": "markdown",
      "source": [
        "##ejemplo de trabajo con Bias y Variance\n",
        "\n",
        "Vamos a trabjar en el conjunto de titanic para evaluar como podemos trabajar sobre esto"
      ],
      "metadata": {
        "id": "rCEEgEqgvJoM"
      }
    },
    {
      "cell_type": "code",
      "source": [
        "#Manejo de datos de Titanic\n",
        "\n",
        "import pandas as pd\n",
        "from sklearn.preprocessing import MinMaxScaler , OneHotEncoder \n",
        "from sklearn.compose import ColumnTransformer\n",
        "from sklearn.compose import make_column_selector\n",
        "from sklearn.pipeline import Pipeline\n",
        "from sklearn.impute import SimpleImputer\n",
        "import numpy as np\n",
        "\n",
        "from sklearn.model_selection import StratifiedKFold, cross_val_score, train_test_split\n",
        "from sklearn.metrics import accuracy_score\n",
        "\n",
        "from sklearn.tree import DecisionTreeClassifier\n"
      ],
      "metadata": {
        "id": "ZoFNV8mWVp59"
      },
      "execution_count": null,
      "outputs": []
    },
    {
      "cell_type": "code",
      "source": [
        "#train\n",
        "df_train = pd.read_csv('https://raw.githubusercontent.com/dsindy/kaggle-titanic/master/data/train.csv')\n",
        "\n",
        "#test\n",
        "df_test = pd.read_csv('https://raw.githubusercontent.com/dsindy/kaggle-titanic/master/data/test.csv')\n",
        "\n",
        "#target test\n",
        "df_submission = pd.read_csv('my_submission.csv')\n",
        "\n",
        "df_train.head()\n",
        "\n"
      ],
      "metadata": {
        "id": "kiuL1ksiVxs1",
        "colab": {
          "base_uri": "https://localhost:8080/",
          "height": 206
        },
        "outputId": "aad1711a-5611-4897-eabd-090ee38e3f1e"
      },
      "execution_count": null,
      "outputs": [
        {
          "output_type": "execute_result",
          "data": {
            "text/plain": [
              "   PassengerId  Survived  Pclass  \\\n",
              "0            1         0       3   \n",
              "1            2         1       1   \n",
              "2            3         1       3   \n",
              "3            4         1       1   \n",
              "4            5         0       3   \n",
              "\n",
              "                                                Name     Sex   Age  SibSp  \\\n",
              "0                            Braund, Mr. Owen Harris    male  22.0      1   \n",
              "1  Cumings, Mrs. John Bradley (Florence Briggs Th...  female  38.0      1   \n",
              "2                             Heikkinen, Miss. Laina  female  26.0      0   \n",
              "3       Futrelle, Mrs. Jacques Heath (Lily May Peel)  female  35.0      1   \n",
              "4                           Allen, Mr. William Henry    male  35.0      0   \n",
              "\n",
              "   Parch            Ticket     Fare Cabin Embarked  \n",
              "0      0         A/5 21171   7.2500   NaN        S  \n",
              "1      0          PC 17599  71.2833   C85        C  \n",
              "2      0  STON/O2. 3101282   7.9250   NaN        S  \n",
              "3      0            113803  53.1000  C123        S  \n",
              "4      0            373450   8.0500   NaN        S  "
            ],
            "text/html": [
              "\n",
              "  <div id=\"df-10dca06b-4335-435f-b45f-c26263e21c15\">\n",
              "    <div class=\"colab-df-container\">\n",
              "      <div>\n",
              "<style scoped>\n",
              "    .dataframe tbody tr th:only-of-type {\n",
              "        vertical-align: middle;\n",
              "    }\n",
              "\n",
              "    .dataframe tbody tr th {\n",
              "        vertical-align: top;\n",
              "    }\n",
              "\n",
              "    .dataframe thead th {\n",
              "        text-align: right;\n",
              "    }\n",
              "</style>\n",
              "<table border=\"1\" class=\"dataframe\">\n",
              "  <thead>\n",
              "    <tr style=\"text-align: right;\">\n",
              "      <th></th>\n",
              "      <th>PassengerId</th>\n",
              "      <th>Survived</th>\n",
              "      <th>Pclass</th>\n",
              "      <th>Name</th>\n",
              "      <th>Sex</th>\n",
              "      <th>Age</th>\n",
              "      <th>SibSp</th>\n",
              "      <th>Parch</th>\n",
              "      <th>Ticket</th>\n",
              "      <th>Fare</th>\n",
              "      <th>Cabin</th>\n",
              "      <th>Embarked</th>\n",
              "    </tr>\n",
              "  </thead>\n",
              "  <tbody>\n",
              "    <tr>\n",
              "      <th>0</th>\n",
              "      <td>1</td>\n",
              "      <td>0</td>\n",
              "      <td>3</td>\n",
              "      <td>Braund, Mr. Owen Harris</td>\n",
              "      <td>male</td>\n",
              "      <td>22.0</td>\n",
              "      <td>1</td>\n",
              "      <td>0</td>\n",
              "      <td>A/5 21171</td>\n",
              "      <td>7.2500</td>\n",
              "      <td>NaN</td>\n",
              "      <td>S</td>\n",
              "    </tr>\n",
              "    <tr>\n",
              "      <th>1</th>\n",
              "      <td>2</td>\n",
              "      <td>1</td>\n",
              "      <td>1</td>\n",
              "      <td>Cumings, Mrs. John Bradley (Florence Briggs Th...</td>\n",
              "      <td>female</td>\n",
              "      <td>38.0</td>\n",
              "      <td>1</td>\n",
              "      <td>0</td>\n",
              "      <td>PC 17599</td>\n",
              "      <td>71.2833</td>\n",
              "      <td>C85</td>\n",
              "      <td>C</td>\n",
              "    </tr>\n",
              "    <tr>\n",
              "      <th>2</th>\n",
              "      <td>3</td>\n",
              "      <td>1</td>\n",
              "      <td>3</td>\n",
              "      <td>Heikkinen, Miss. Laina</td>\n",
              "      <td>female</td>\n",
              "      <td>26.0</td>\n",
              "      <td>0</td>\n",
              "      <td>0</td>\n",
              "      <td>STON/O2. 3101282</td>\n",
              "      <td>7.9250</td>\n",
              "      <td>NaN</td>\n",
              "      <td>S</td>\n",
              "    </tr>\n",
              "    <tr>\n",
              "      <th>3</th>\n",
              "      <td>4</td>\n",
              "      <td>1</td>\n",
              "      <td>1</td>\n",
              "      <td>Futrelle, Mrs. Jacques Heath (Lily May Peel)</td>\n",
              "      <td>female</td>\n",
              "      <td>35.0</td>\n",
              "      <td>1</td>\n",
              "      <td>0</td>\n",
              "      <td>113803</td>\n",
              "      <td>53.1000</td>\n",
              "      <td>C123</td>\n",
              "      <td>S</td>\n",
              "    </tr>\n",
              "    <tr>\n",
              "      <th>4</th>\n",
              "      <td>5</td>\n",
              "      <td>0</td>\n",
              "      <td>3</td>\n",
              "      <td>Allen, Mr. William Henry</td>\n",
              "      <td>male</td>\n",
              "      <td>35.0</td>\n",
              "      <td>0</td>\n",
              "      <td>0</td>\n",
              "      <td>373450</td>\n",
              "      <td>8.0500</td>\n",
              "      <td>NaN</td>\n",
              "      <td>S</td>\n",
              "    </tr>\n",
              "  </tbody>\n",
              "</table>\n",
              "</div>\n",
              "      <button class=\"colab-df-convert\" onclick=\"convertToInteractive('df-10dca06b-4335-435f-b45f-c26263e21c15')\"\n",
              "              title=\"Convert this dataframe to an interactive table.\"\n",
              "              style=\"display:none;\">\n",
              "        \n",
              "  <svg xmlns=\"http://www.w3.org/2000/svg\" height=\"24px\"viewBox=\"0 0 24 24\"\n",
              "       width=\"24px\">\n",
              "    <path d=\"M0 0h24v24H0V0z\" fill=\"none\"/>\n",
              "    <path d=\"M18.56 5.44l.94 2.06.94-2.06 2.06-.94-2.06-.94-.94-2.06-.94 2.06-2.06.94zm-11 1L8.5 8.5l.94-2.06 2.06-.94-2.06-.94L8.5 2.5l-.94 2.06-2.06.94zm10 10l.94 2.06.94-2.06 2.06-.94-2.06-.94-.94-2.06-.94 2.06-2.06.94z\"/><path d=\"M17.41 7.96l-1.37-1.37c-.4-.4-.92-.59-1.43-.59-.52 0-1.04.2-1.43.59L10.3 9.45l-7.72 7.72c-.78.78-.78 2.05 0 2.83L4 21.41c.39.39.9.59 1.41.59.51 0 1.02-.2 1.41-.59l7.78-7.78 2.81-2.81c.8-.78.8-2.07 0-2.86zM5.41 20L4 18.59l7.72-7.72 1.47 1.35L5.41 20z\"/>\n",
              "  </svg>\n",
              "      </button>\n",
              "      \n",
              "  <style>\n",
              "    .colab-df-container {\n",
              "      display:flex;\n",
              "      flex-wrap:wrap;\n",
              "      gap: 12px;\n",
              "    }\n",
              "\n",
              "    .colab-df-convert {\n",
              "      background-color: #E8F0FE;\n",
              "      border: none;\n",
              "      border-radius: 50%;\n",
              "      cursor: pointer;\n",
              "      display: none;\n",
              "      fill: #1967D2;\n",
              "      height: 32px;\n",
              "      padding: 0 0 0 0;\n",
              "      width: 32px;\n",
              "    }\n",
              "\n",
              "    .colab-df-convert:hover {\n",
              "      background-color: #E2EBFA;\n",
              "      box-shadow: 0px 1px 2px rgba(60, 64, 67, 0.3), 0px 1px 3px 1px rgba(60, 64, 67, 0.15);\n",
              "      fill: #174EA6;\n",
              "    }\n",
              "\n",
              "    [theme=dark] .colab-df-convert {\n",
              "      background-color: #3B4455;\n",
              "      fill: #D2E3FC;\n",
              "    }\n",
              "\n",
              "    [theme=dark] .colab-df-convert:hover {\n",
              "      background-color: #434B5C;\n",
              "      box-shadow: 0px 1px 3px 1px rgba(0, 0, 0, 0.15);\n",
              "      filter: drop-shadow(0px 1px 2px rgba(0, 0, 0, 0.3));\n",
              "      fill: #FFFFFF;\n",
              "    }\n",
              "  </style>\n",
              "\n",
              "      <script>\n",
              "        const buttonEl =\n",
              "          document.querySelector('#df-10dca06b-4335-435f-b45f-c26263e21c15 button.colab-df-convert');\n",
              "        buttonEl.style.display =\n",
              "          google.colab.kernel.accessAllowed ? 'block' : 'none';\n",
              "\n",
              "        async function convertToInteractive(key) {\n",
              "          const element = document.querySelector('#df-10dca06b-4335-435f-b45f-c26263e21c15');\n",
              "          const dataTable =\n",
              "            await google.colab.kernel.invokeFunction('convertToInteractive',\n",
              "                                                     [key], {});\n",
              "          if (!dataTable) return;\n",
              "\n",
              "          const docLinkHtml = 'Like what you see? Visit the ' +\n",
              "            '<a target=\"_blank\" href=https://colab.research.google.com/notebooks/data_table.ipynb>data table notebook</a>'\n",
              "            + ' to learn more about interactive tables.';\n",
              "          element.innerHTML = '';\n",
              "          dataTable['output_type'] = 'display_data';\n",
              "          await google.colab.output.renderOutput(dataTable, element);\n",
              "          const docLink = document.createElement('div');\n",
              "          docLink.innerHTML = docLinkHtml;\n",
              "          element.appendChild(docLink);\n",
              "        }\n",
              "      </script>\n",
              "    </div>\n",
              "  </div>\n",
              "  "
            ]
          },
          "metadata": {},
          "execution_count": 13
        }
      ]
    },
    {
      "cell_type": "code",
      "source": [
        "df_test.head()"
      ],
      "metadata": {
        "colab": {
          "base_uri": "https://localhost:8080/",
          "height": 206
        },
        "id": "17EYsKIs822y",
        "outputId": "0df8b338-4f4d-4d3a-8186-9681fce159c3"
      },
      "execution_count": null,
      "outputs": [
        {
          "output_type": "execute_result",
          "data": {
            "text/plain": [
              "   PassengerId  Pclass                                          Name     Sex  \\\n",
              "0          892       3                              Kelly, Mr. James    male   \n",
              "1          893       3              Wilkes, Mrs. James (Ellen Needs)  female   \n",
              "2          894       2                     Myles, Mr. Thomas Francis    male   \n",
              "3          895       3                              Wirz, Mr. Albert    male   \n",
              "4          896       3  Hirvonen, Mrs. Alexander (Helga E Lindqvist)  female   \n",
              "\n",
              "    Age  SibSp  Parch   Ticket     Fare Cabin Embarked  \n",
              "0  34.5      0      0   330911   7.8292   NaN        Q  \n",
              "1  47.0      1      0   363272   7.0000   NaN        S  \n",
              "2  62.0      0      0   240276   9.6875   NaN        Q  \n",
              "3  27.0      0      0   315154   8.6625   NaN        S  \n",
              "4  22.0      1      1  3101298  12.2875   NaN        S  "
            ],
            "text/html": [
              "\n",
              "  <div id=\"df-92eebcf5-3d4e-4ae5-9c3b-a2df0cc9d6d3\">\n",
              "    <div class=\"colab-df-container\">\n",
              "      <div>\n",
              "<style scoped>\n",
              "    .dataframe tbody tr th:only-of-type {\n",
              "        vertical-align: middle;\n",
              "    }\n",
              "\n",
              "    .dataframe tbody tr th {\n",
              "        vertical-align: top;\n",
              "    }\n",
              "\n",
              "    .dataframe thead th {\n",
              "        text-align: right;\n",
              "    }\n",
              "</style>\n",
              "<table border=\"1\" class=\"dataframe\">\n",
              "  <thead>\n",
              "    <tr style=\"text-align: right;\">\n",
              "      <th></th>\n",
              "      <th>PassengerId</th>\n",
              "      <th>Pclass</th>\n",
              "      <th>Name</th>\n",
              "      <th>Sex</th>\n",
              "      <th>Age</th>\n",
              "      <th>SibSp</th>\n",
              "      <th>Parch</th>\n",
              "      <th>Ticket</th>\n",
              "      <th>Fare</th>\n",
              "      <th>Cabin</th>\n",
              "      <th>Embarked</th>\n",
              "    </tr>\n",
              "  </thead>\n",
              "  <tbody>\n",
              "    <tr>\n",
              "      <th>0</th>\n",
              "      <td>892</td>\n",
              "      <td>3</td>\n",
              "      <td>Kelly, Mr. James</td>\n",
              "      <td>male</td>\n",
              "      <td>34.5</td>\n",
              "      <td>0</td>\n",
              "      <td>0</td>\n",
              "      <td>330911</td>\n",
              "      <td>7.8292</td>\n",
              "      <td>NaN</td>\n",
              "      <td>Q</td>\n",
              "    </tr>\n",
              "    <tr>\n",
              "      <th>1</th>\n",
              "      <td>893</td>\n",
              "      <td>3</td>\n",
              "      <td>Wilkes, Mrs. James (Ellen Needs)</td>\n",
              "      <td>female</td>\n",
              "      <td>47.0</td>\n",
              "      <td>1</td>\n",
              "      <td>0</td>\n",
              "      <td>363272</td>\n",
              "      <td>7.0000</td>\n",
              "      <td>NaN</td>\n",
              "      <td>S</td>\n",
              "    </tr>\n",
              "    <tr>\n",
              "      <th>2</th>\n",
              "      <td>894</td>\n",
              "      <td>2</td>\n",
              "      <td>Myles, Mr. Thomas Francis</td>\n",
              "      <td>male</td>\n",
              "      <td>62.0</td>\n",
              "      <td>0</td>\n",
              "      <td>0</td>\n",
              "      <td>240276</td>\n",
              "      <td>9.6875</td>\n",
              "      <td>NaN</td>\n",
              "      <td>Q</td>\n",
              "    </tr>\n",
              "    <tr>\n",
              "      <th>3</th>\n",
              "      <td>895</td>\n",
              "      <td>3</td>\n",
              "      <td>Wirz, Mr. Albert</td>\n",
              "      <td>male</td>\n",
              "      <td>27.0</td>\n",
              "      <td>0</td>\n",
              "      <td>0</td>\n",
              "      <td>315154</td>\n",
              "      <td>8.6625</td>\n",
              "      <td>NaN</td>\n",
              "      <td>S</td>\n",
              "    </tr>\n",
              "    <tr>\n",
              "      <th>4</th>\n",
              "      <td>896</td>\n",
              "      <td>3</td>\n",
              "      <td>Hirvonen, Mrs. Alexander (Helga E Lindqvist)</td>\n",
              "      <td>female</td>\n",
              "      <td>22.0</td>\n",
              "      <td>1</td>\n",
              "      <td>1</td>\n",
              "      <td>3101298</td>\n",
              "      <td>12.2875</td>\n",
              "      <td>NaN</td>\n",
              "      <td>S</td>\n",
              "    </tr>\n",
              "  </tbody>\n",
              "</table>\n",
              "</div>\n",
              "      <button class=\"colab-df-convert\" onclick=\"convertToInteractive('df-92eebcf5-3d4e-4ae5-9c3b-a2df0cc9d6d3')\"\n",
              "              title=\"Convert this dataframe to an interactive table.\"\n",
              "              style=\"display:none;\">\n",
              "        \n",
              "  <svg xmlns=\"http://www.w3.org/2000/svg\" height=\"24px\"viewBox=\"0 0 24 24\"\n",
              "       width=\"24px\">\n",
              "    <path d=\"M0 0h24v24H0V0z\" fill=\"none\"/>\n",
              "    <path d=\"M18.56 5.44l.94 2.06.94-2.06 2.06-.94-2.06-.94-.94-2.06-.94 2.06-2.06.94zm-11 1L8.5 8.5l.94-2.06 2.06-.94-2.06-.94L8.5 2.5l-.94 2.06-2.06.94zm10 10l.94 2.06.94-2.06 2.06-.94-2.06-.94-.94-2.06-.94 2.06-2.06.94z\"/><path d=\"M17.41 7.96l-1.37-1.37c-.4-.4-.92-.59-1.43-.59-.52 0-1.04.2-1.43.59L10.3 9.45l-7.72 7.72c-.78.78-.78 2.05 0 2.83L4 21.41c.39.39.9.59 1.41.59.51 0 1.02-.2 1.41-.59l7.78-7.78 2.81-2.81c.8-.78.8-2.07 0-2.86zM5.41 20L4 18.59l7.72-7.72 1.47 1.35L5.41 20z\"/>\n",
              "  </svg>\n",
              "      </button>\n",
              "      \n",
              "  <style>\n",
              "    .colab-df-container {\n",
              "      display:flex;\n",
              "      flex-wrap:wrap;\n",
              "      gap: 12px;\n",
              "    }\n",
              "\n",
              "    .colab-df-convert {\n",
              "      background-color: #E8F0FE;\n",
              "      border: none;\n",
              "      border-radius: 50%;\n",
              "      cursor: pointer;\n",
              "      display: none;\n",
              "      fill: #1967D2;\n",
              "      height: 32px;\n",
              "      padding: 0 0 0 0;\n",
              "      width: 32px;\n",
              "    }\n",
              "\n",
              "    .colab-df-convert:hover {\n",
              "      background-color: #E2EBFA;\n",
              "      box-shadow: 0px 1px 2px rgba(60, 64, 67, 0.3), 0px 1px 3px 1px rgba(60, 64, 67, 0.15);\n",
              "      fill: #174EA6;\n",
              "    }\n",
              "\n",
              "    [theme=dark] .colab-df-convert {\n",
              "      background-color: #3B4455;\n",
              "      fill: #D2E3FC;\n",
              "    }\n",
              "\n",
              "    [theme=dark] .colab-df-convert:hover {\n",
              "      background-color: #434B5C;\n",
              "      box-shadow: 0px 1px 3px 1px rgba(0, 0, 0, 0.15);\n",
              "      filter: drop-shadow(0px 1px 2px rgba(0, 0, 0, 0.3));\n",
              "      fill: #FFFFFF;\n",
              "    }\n",
              "  </style>\n",
              "\n",
              "      <script>\n",
              "        const buttonEl =\n",
              "          document.querySelector('#df-92eebcf5-3d4e-4ae5-9c3b-a2df0cc9d6d3 button.colab-df-convert');\n",
              "        buttonEl.style.display =\n",
              "          google.colab.kernel.accessAllowed ? 'block' : 'none';\n",
              "\n",
              "        async function convertToInteractive(key) {\n",
              "          const element = document.querySelector('#df-92eebcf5-3d4e-4ae5-9c3b-a2df0cc9d6d3');\n",
              "          const dataTable =\n",
              "            await google.colab.kernel.invokeFunction('convertToInteractive',\n",
              "                                                     [key], {});\n",
              "          if (!dataTable) return;\n",
              "\n",
              "          const docLinkHtml = 'Like what you see? Visit the ' +\n",
              "            '<a target=\"_blank\" href=https://colab.research.google.com/notebooks/data_table.ipynb>data table notebook</a>'\n",
              "            + ' to learn more about interactive tables.';\n",
              "          element.innerHTML = '';\n",
              "          dataTable['output_type'] = 'display_data';\n",
              "          await google.colab.output.renderOutput(dataTable, element);\n",
              "          const docLink = document.createElement('div');\n",
              "          docLink.innerHTML = docLinkHtml;\n",
              "          element.appendChild(docLink);\n",
              "        }\n",
              "      </script>\n",
              "    </div>\n",
              "  </div>\n",
              "  "
            ]
          },
          "metadata": {},
          "execution_count": 14
        }
      ]
    },
    {
      "cell_type": "code",
      "source": [
        "df_submission.head()"
      ],
      "metadata": {
        "colab": {
          "base_uri": "https://localhost:8080/",
          "height": 206
        },
        "id": "3Cnky7qX87ZX",
        "outputId": "b9cb9b34-8f1a-4c2d-9357-025085eec9be"
      },
      "execution_count": null,
      "outputs": [
        {
          "output_type": "execute_result",
          "data": {
            "text/plain": [
              "   PassengerId  Survived\n",
              "0          892         0\n",
              "1          893         1\n",
              "2          894         0\n",
              "3          895         0\n",
              "4          896         1"
            ],
            "text/html": [
              "\n",
              "  <div id=\"df-b4034153-feb8-4019-9058-9a210f7f6bdb\">\n",
              "    <div class=\"colab-df-container\">\n",
              "      <div>\n",
              "<style scoped>\n",
              "    .dataframe tbody tr th:only-of-type {\n",
              "        vertical-align: middle;\n",
              "    }\n",
              "\n",
              "    .dataframe tbody tr th {\n",
              "        vertical-align: top;\n",
              "    }\n",
              "\n",
              "    .dataframe thead th {\n",
              "        text-align: right;\n",
              "    }\n",
              "</style>\n",
              "<table border=\"1\" class=\"dataframe\">\n",
              "  <thead>\n",
              "    <tr style=\"text-align: right;\">\n",
              "      <th></th>\n",
              "      <th>PassengerId</th>\n",
              "      <th>Survived</th>\n",
              "    </tr>\n",
              "  </thead>\n",
              "  <tbody>\n",
              "    <tr>\n",
              "      <th>0</th>\n",
              "      <td>892</td>\n",
              "      <td>0</td>\n",
              "    </tr>\n",
              "    <tr>\n",
              "      <th>1</th>\n",
              "      <td>893</td>\n",
              "      <td>1</td>\n",
              "    </tr>\n",
              "    <tr>\n",
              "      <th>2</th>\n",
              "      <td>894</td>\n",
              "      <td>0</td>\n",
              "    </tr>\n",
              "    <tr>\n",
              "      <th>3</th>\n",
              "      <td>895</td>\n",
              "      <td>0</td>\n",
              "    </tr>\n",
              "    <tr>\n",
              "      <th>4</th>\n",
              "      <td>896</td>\n",
              "      <td>1</td>\n",
              "    </tr>\n",
              "  </tbody>\n",
              "</table>\n",
              "</div>\n",
              "      <button class=\"colab-df-convert\" onclick=\"convertToInteractive('df-b4034153-feb8-4019-9058-9a210f7f6bdb')\"\n",
              "              title=\"Convert this dataframe to an interactive table.\"\n",
              "              style=\"display:none;\">\n",
              "        \n",
              "  <svg xmlns=\"http://www.w3.org/2000/svg\" height=\"24px\"viewBox=\"0 0 24 24\"\n",
              "       width=\"24px\">\n",
              "    <path d=\"M0 0h24v24H0V0z\" fill=\"none\"/>\n",
              "    <path d=\"M18.56 5.44l.94 2.06.94-2.06 2.06-.94-2.06-.94-.94-2.06-.94 2.06-2.06.94zm-11 1L8.5 8.5l.94-2.06 2.06-.94-2.06-.94L8.5 2.5l-.94 2.06-2.06.94zm10 10l.94 2.06.94-2.06 2.06-.94-2.06-.94-.94-2.06-.94 2.06-2.06.94z\"/><path d=\"M17.41 7.96l-1.37-1.37c-.4-.4-.92-.59-1.43-.59-.52 0-1.04.2-1.43.59L10.3 9.45l-7.72 7.72c-.78.78-.78 2.05 0 2.83L4 21.41c.39.39.9.59 1.41.59.51 0 1.02-.2 1.41-.59l7.78-7.78 2.81-2.81c.8-.78.8-2.07 0-2.86zM5.41 20L4 18.59l7.72-7.72 1.47 1.35L5.41 20z\"/>\n",
              "  </svg>\n",
              "      </button>\n",
              "      \n",
              "  <style>\n",
              "    .colab-df-container {\n",
              "      display:flex;\n",
              "      flex-wrap:wrap;\n",
              "      gap: 12px;\n",
              "    }\n",
              "\n",
              "    .colab-df-convert {\n",
              "      background-color: #E8F0FE;\n",
              "      border: none;\n",
              "      border-radius: 50%;\n",
              "      cursor: pointer;\n",
              "      display: none;\n",
              "      fill: #1967D2;\n",
              "      height: 32px;\n",
              "      padding: 0 0 0 0;\n",
              "      width: 32px;\n",
              "    }\n",
              "\n",
              "    .colab-df-convert:hover {\n",
              "      background-color: #E2EBFA;\n",
              "      box-shadow: 0px 1px 2px rgba(60, 64, 67, 0.3), 0px 1px 3px 1px rgba(60, 64, 67, 0.15);\n",
              "      fill: #174EA6;\n",
              "    }\n",
              "\n",
              "    [theme=dark] .colab-df-convert {\n",
              "      background-color: #3B4455;\n",
              "      fill: #D2E3FC;\n",
              "    }\n",
              "\n",
              "    [theme=dark] .colab-df-convert:hover {\n",
              "      background-color: #434B5C;\n",
              "      box-shadow: 0px 1px 3px 1px rgba(0, 0, 0, 0.15);\n",
              "      filter: drop-shadow(0px 1px 2px rgba(0, 0, 0, 0.3));\n",
              "      fill: #FFFFFF;\n",
              "    }\n",
              "  </style>\n",
              "\n",
              "      <script>\n",
              "        const buttonEl =\n",
              "          document.querySelector('#df-b4034153-feb8-4019-9058-9a210f7f6bdb button.colab-df-convert');\n",
              "        buttonEl.style.display =\n",
              "          google.colab.kernel.accessAllowed ? 'block' : 'none';\n",
              "\n",
              "        async function convertToInteractive(key) {\n",
              "          const element = document.querySelector('#df-b4034153-feb8-4019-9058-9a210f7f6bdb');\n",
              "          const dataTable =\n",
              "            await google.colab.kernel.invokeFunction('convertToInteractive',\n",
              "                                                     [key], {});\n",
              "          if (!dataTable) return;\n",
              "\n",
              "          const docLinkHtml = 'Like what you see? Visit the ' +\n",
              "            '<a target=\"_blank\" href=https://colab.research.google.com/notebooks/data_table.ipynb>data table notebook</a>'\n",
              "            + ' to learn more about interactive tables.';\n",
              "          element.innerHTML = '';\n",
              "          dataTable['output_type'] = 'display_data';\n",
              "          await google.colab.output.renderOutput(dataTable, element);\n",
              "          const docLink = document.createElement('div');\n",
              "          docLink.innerHTML = docLinkHtml;\n",
              "          element.appendChild(docLink);\n",
              "        }\n",
              "      </script>\n",
              "    </div>\n",
              "  </div>\n",
              "  "
            ]
          },
          "metadata": {},
          "execution_count": 15
        }
      ]
    },
    {
      "cell_type": "code",
      "source": [
        "#sabemos que tiene datos nulos y vamos hacer un scaler de los datos \n",
        "\n",
        "#split target and data\n",
        "X_train = df_train.drop('Survived', axis=1)\n",
        "y_train = df_train['Survived']\n",
        "\n",
        "#delete all columns not necessary\n",
        "X_train.drop(['PassengerId', 'Name', 'Ticket', 'Cabin'], axis=1, inplace=True)\n",
        "\n"
      ],
      "metadata": {
        "id": "CqI1Gq-kV_Ho"
      },
      "execution_count": null,
      "outputs": []
    },
    {
      "cell_type": "code",
      "source": [
        "X_train.select_dtypes(include='O').columns.tolist()"
      ],
      "metadata": {
        "colab": {
          "base_uri": "https://localhost:8080/"
        },
        "id": "LBu7OvAa-Y6C",
        "outputId": "d37c683a-241e-4dfc-f8c8-c41d3bdde3f8"
      },
      "execution_count": null,
      "outputs": [
        {
          "output_type": "execute_result",
          "data": {
            "text/plain": [
              "['Sex', 'Embarked']"
            ]
          },
          "metadata": {},
          "execution_count": 20
        }
      ]
    },
    {
      "cell_type": "code",
      "source": [
        "#obtener columnas categoricas\n",
        "cat_col = X_train.select_dtypes(include='O').columns.tolist()\n",
        "\n",
        "\n",
        "#generar a pipeline para numericas \n",
        "numeric_transformer = Pipeline(\n",
        "    steps=[('fill', SimpleImputer(strategy='median')), \n",
        "           (\"scaler\", MinMaxScaler())])\n",
        "\n",
        "#generar un pipeline para categoricas\n",
        "categorical_transformer = Pipeline(steps=[('fill_cat', SimpleImputer(strategy='most_frequent')),\n",
        "                                          (\"ohe\",OneHotEncoder(drop='first', handle_unknown=\"ignore\"))])\n",
        "\n",
        "\n",
        "#funcion que realiza el trabajo para cada pipeline y luego unirlo\n",
        "preprocessor = ColumnTransformer(\n",
        "    transformers=[\n",
        "        (\"num\", numeric_transformer, make_column_selector(dtype_exclude=object)),\n",
        "        (\"cat\", categorical_transformer, make_column_selector(dtype_include = object)),#['Sex', 'Embarked']\n",
        "    ]\n",
        ")\n",
        "\n",
        "#obtencio. de los procesos en el Xtrain\n",
        "preprocessor.fit(X_train)"
      ],
      "metadata": {
        "colab": {
          "base_uri": "https://localhost:8080/"
        },
        "id": "MrwQl5fCV6W8",
        "outputId": "4f95b279-6eb6-4a6a-eac0-c6176cdb2e79"
      },
      "execution_count": null,
      "outputs": [
        {
          "output_type": "execute_result",
          "data": {
            "text/plain": [
              "ColumnTransformer(transformers=[('num',\n",
              "                                 Pipeline(steps=[('fill',\n",
              "                                                  SimpleImputer(strategy='median')),\n",
              "                                                 ('scaler', MinMaxScaler())]),\n",
              "                                 <sklearn.compose._column_transformer.make_column_selector object at 0x7f80134c5350>),\n",
              "                                ('cat',\n",
              "                                 Pipeline(steps=[('fill_cat',\n",
              "                                                  SimpleImputer(strategy='most_frequent')),\n",
              "                                                 ('ohe',\n",
              "                                                  OneHotEncoder(drop='first',\n",
              "                                                                handle_unknown='ignore'))]),\n",
              "                                 <sklearn.compose._column_transformer.make_column_selector object at 0x7f80134c5e90>)])"
            ]
          },
          "metadata": {},
          "execution_count": 21
        }
      ]
    },
    {
      "cell_type": "code",
      "source": [
        "preprocessor.named_transformers_['cat']['ohe'].get_feature_names_out(cat_col)"
      ],
      "metadata": {
        "colab": {
          "base_uri": "https://localhost:8080/"
        },
        "id": "l4q8yyGDBRCk",
        "outputId": "afcf7921-c372-4560-be73-c96aaa54d908"
      },
      "execution_count": null,
      "outputs": [
        {
          "output_type": "execute_result",
          "data": {
            "text/plain": [
              "array(['Sex_male', 'Embarked_Q', 'Embarked_S'], dtype=object)"
            ]
          },
          "metadata": {},
          "execution_count": 26
        }
      ]
    },
    {
      "cell_type": "code",
      "source": [
        "#trasnformacion de X_train \n",
        "X_array_enc = preprocessor.transform(X_train)\n",
        "#genero nombres de columnas\n",
        "columns_enc = np.append(X_train.select_dtypes(exclude='object').columns, preprocessor.named_transformers_['cat']['ohe'].get_feature_names_out(cat_col))\n",
        "X_train_enc = pd.DataFrame(X_array_enc, columns = columns_enc)\n",
        "X_train_enc"
      ],
      "metadata": {
        "colab": {
          "base_uri": "https://localhost:8080/",
          "height": 424
        },
        "id": "9giVNwy1WaDr",
        "outputId": "82948ea9-5ea0-4b6d-a4ca-5367f8f3fe67"
      },
      "execution_count": null,
      "outputs": [
        {
          "output_type": "execute_result",
          "data": {
            "text/plain": [
              "     Pclass       Age  SibSp     Parch      Fare  Sex_male  Embarked_Q  \\\n",
              "0       1.0  0.271174  0.125  0.000000  0.014151       1.0         0.0   \n",
              "1       0.0  0.472229  0.125  0.000000  0.139136       0.0         0.0   \n",
              "2       1.0  0.321438  0.000  0.000000  0.015469       0.0         0.0   \n",
              "3       0.0  0.434531  0.125  0.000000  0.103644       0.0         0.0   \n",
              "4       1.0  0.434531  0.000  0.000000  0.015713       1.0         0.0   \n",
              "..      ...       ...    ...       ...       ...       ...         ...   \n",
              "886     0.5  0.334004  0.000  0.000000  0.025374       1.0         0.0   \n",
              "887     0.0  0.233476  0.000  0.000000  0.058556       0.0         0.0   \n",
              "888     1.0  0.346569  0.125  0.333333  0.045771       0.0         0.0   \n",
              "889     0.0  0.321438  0.000  0.000000  0.058556       1.0         0.0   \n",
              "890     1.0  0.396833  0.000  0.000000  0.015127       1.0         1.0   \n",
              "\n",
              "     Embarked_S  \n",
              "0           1.0  \n",
              "1           0.0  \n",
              "2           1.0  \n",
              "3           1.0  \n",
              "4           1.0  \n",
              "..          ...  \n",
              "886         1.0  \n",
              "887         1.0  \n",
              "888         1.0  \n",
              "889         0.0  \n",
              "890         0.0  \n",
              "\n",
              "[891 rows x 8 columns]"
            ],
            "text/html": [
              "\n",
              "  <div id=\"df-611efede-9882-4b4e-926c-d91c2ae3978d\">\n",
              "    <div class=\"colab-df-container\">\n",
              "      <div>\n",
              "<style scoped>\n",
              "    .dataframe tbody tr th:only-of-type {\n",
              "        vertical-align: middle;\n",
              "    }\n",
              "\n",
              "    .dataframe tbody tr th {\n",
              "        vertical-align: top;\n",
              "    }\n",
              "\n",
              "    .dataframe thead th {\n",
              "        text-align: right;\n",
              "    }\n",
              "</style>\n",
              "<table border=\"1\" class=\"dataframe\">\n",
              "  <thead>\n",
              "    <tr style=\"text-align: right;\">\n",
              "      <th></th>\n",
              "      <th>Pclass</th>\n",
              "      <th>Age</th>\n",
              "      <th>SibSp</th>\n",
              "      <th>Parch</th>\n",
              "      <th>Fare</th>\n",
              "      <th>Sex_male</th>\n",
              "      <th>Embarked_Q</th>\n",
              "      <th>Embarked_S</th>\n",
              "    </tr>\n",
              "  </thead>\n",
              "  <tbody>\n",
              "    <tr>\n",
              "      <th>0</th>\n",
              "      <td>1.0</td>\n",
              "      <td>0.271174</td>\n",
              "      <td>0.125</td>\n",
              "      <td>0.000000</td>\n",
              "      <td>0.014151</td>\n",
              "      <td>1.0</td>\n",
              "      <td>0.0</td>\n",
              "      <td>1.0</td>\n",
              "    </tr>\n",
              "    <tr>\n",
              "      <th>1</th>\n",
              "      <td>0.0</td>\n",
              "      <td>0.472229</td>\n",
              "      <td>0.125</td>\n",
              "      <td>0.000000</td>\n",
              "      <td>0.139136</td>\n",
              "      <td>0.0</td>\n",
              "      <td>0.0</td>\n",
              "      <td>0.0</td>\n",
              "    </tr>\n",
              "    <tr>\n",
              "      <th>2</th>\n",
              "      <td>1.0</td>\n",
              "      <td>0.321438</td>\n",
              "      <td>0.000</td>\n",
              "      <td>0.000000</td>\n",
              "      <td>0.015469</td>\n",
              "      <td>0.0</td>\n",
              "      <td>0.0</td>\n",
              "      <td>1.0</td>\n",
              "    </tr>\n",
              "    <tr>\n",
              "      <th>3</th>\n",
              "      <td>0.0</td>\n",
              "      <td>0.434531</td>\n",
              "      <td>0.125</td>\n",
              "      <td>0.000000</td>\n",
              "      <td>0.103644</td>\n",
              "      <td>0.0</td>\n",
              "      <td>0.0</td>\n",
              "      <td>1.0</td>\n",
              "    </tr>\n",
              "    <tr>\n",
              "      <th>4</th>\n",
              "      <td>1.0</td>\n",
              "      <td>0.434531</td>\n",
              "      <td>0.000</td>\n",
              "      <td>0.000000</td>\n",
              "      <td>0.015713</td>\n",
              "      <td>1.0</td>\n",
              "      <td>0.0</td>\n",
              "      <td>1.0</td>\n",
              "    </tr>\n",
              "    <tr>\n",
              "      <th>...</th>\n",
              "      <td>...</td>\n",
              "      <td>...</td>\n",
              "      <td>...</td>\n",
              "      <td>...</td>\n",
              "      <td>...</td>\n",
              "      <td>...</td>\n",
              "      <td>...</td>\n",
              "      <td>...</td>\n",
              "    </tr>\n",
              "    <tr>\n",
              "      <th>886</th>\n",
              "      <td>0.5</td>\n",
              "      <td>0.334004</td>\n",
              "      <td>0.000</td>\n",
              "      <td>0.000000</td>\n",
              "      <td>0.025374</td>\n",
              "      <td>1.0</td>\n",
              "      <td>0.0</td>\n",
              "      <td>1.0</td>\n",
              "    </tr>\n",
              "    <tr>\n",
              "      <th>887</th>\n",
              "      <td>0.0</td>\n",
              "      <td>0.233476</td>\n",
              "      <td>0.000</td>\n",
              "      <td>0.000000</td>\n",
              "      <td>0.058556</td>\n",
              "      <td>0.0</td>\n",
              "      <td>0.0</td>\n",
              "      <td>1.0</td>\n",
              "    </tr>\n",
              "    <tr>\n",
              "      <th>888</th>\n",
              "      <td>1.0</td>\n",
              "      <td>0.346569</td>\n",
              "      <td>0.125</td>\n",
              "      <td>0.333333</td>\n",
              "      <td>0.045771</td>\n",
              "      <td>0.0</td>\n",
              "      <td>0.0</td>\n",
              "      <td>1.0</td>\n",
              "    </tr>\n",
              "    <tr>\n",
              "      <th>889</th>\n",
              "      <td>0.0</td>\n",
              "      <td>0.321438</td>\n",
              "      <td>0.000</td>\n",
              "      <td>0.000000</td>\n",
              "      <td>0.058556</td>\n",
              "      <td>1.0</td>\n",
              "      <td>0.0</td>\n",
              "      <td>0.0</td>\n",
              "    </tr>\n",
              "    <tr>\n",
              "      <th>890</th>\n",
              "      <td>1.0</td>\n",
              "      <td>0.396833</td>\n",
              "      <td>0.000</td>\n",
              "      <td>0.000000</td>\n",
              "      <td>0.015127</td>\n",
              "      <td>1.0</td>\n",
              "      <td>1.0</td>\n",
              "      <td>0.0</td>\n",
              "    </tr>\n",
              "  </tbody>\n",
              "</table>\n",
              "<p>891 rows × 8 columns</p>\n",
              "</div>\n",
              "      <button class=\"colab-df-convert\" onclick=\"convertToInteractive('df-611efede-9882-4b4e-926c-d91c2ae3978d')\"\n",
              "              title=\"Convert this dataframe to an interactive table.\"\n",
              "              style=\"display:none;\">\n",
              "        \n",
              "  <svg xmlns=\"http://www.w3.org/2000/svg\" height=\"24px\"viewBox=\"0 0 24 24\"\n",
              "       width=\"24px\">\n",
              "    <path d=\"M0 0h24v24H0V0z\" fill=\"none\"/>\n",
              "    <path d=\"M18.56 5.44l.94 2.06.94-2.06 2.06-.94-2.06-.94-.94-2.06-.94 2.06-2.06.94zm-11 1L8.5 8.5l.94-2.06 2.06-.94-2.06-.94L8.5 2.5l-.94 2.06-2.06.94zm10 10l.94 2.06.94-2.06 2.06-.94-2.06-.94-.94-2.06-.94 2.06-2.06.94z\"/><path d=\"M17.41 7.96l-1.37-1.37c-.4-.4-.92-.59-1.43-.59-.52 0-1.04.2-1.43.59L10.3 9.45l-7.72 7.72c-.78.78-.78 2.05 0 2.83L4 21.41c.39.39.9.59 1.41.59.51 0 1.02-.2 1.41-.59l7.78-7.78 2.81-2.81c.8-.78.8-2.07 0-2.86zM5.41 20L4 18.59l7.72-7.72 1.47 1.35L5.41 20z\"/>\n",
              "  </svg>\n",
              "      </button>\n",
              "      \n",
              "  <style>\n",
              "    .colab-df-container {\n",
              "      display:flex;\n",
              "      flex-wrap:wrap;\n",
              "      gap: 12px;\n",
              "    }\n",
              "\n",
              "    .colab-df-convert {\n",
              "      background-color: #E8F0FE;\n",
              "      border: none;\n",
              "      border-radius: 50%;\n",
              "      cursor: pointer;\n",
              "      display: none;\n",
              "      fill: #1967D2;\n",
              "      height: 32px;\n",
              "      padding: 0 0 0 0;\n",
              "      width: 32px;\n",
              "    }\n",
              "\n",
              "    .colab-df-convert:hover {\n",
              "      background-color: #E2EBFA;\n",
              "      box-shadow: 0px 1px 2px rgba(60, 64, 67, 0.3), 0px 1px 3px 1px rgba(60, 64, 67, 0.15);\n",
              "      fill: #174EA6;\n",
              "    }\n",
              "\n",
              "    [theme=dark] .colab-df-convert {\n",
              "      background-color: #3B4455;\n",
              "      fill: #D2E3FC;\n",
              "    }\n",
              "\n",
              "    [theme=dark] .colab-df-convert:hover {\n",
              "      background-color: #434B5C;\n",
              "      box-shadow: 0px 1px 3px 1px rgba(0, 0, 0, 0.15);\n",
              "      filter: drop-shadow(0px 1px 2px rgba(0, 0, 0, 0.3));\n",
              "      fill: #FFFFFF;\n",
              "    }\n",
              "  </style>\n",
              "\n",
              "      <script>\n",
              "        const buttonEl =\n",
              "          document.querySelector('#df-611efede-9882-4b4e-926c-d91c2ae3978d button.colab-df-convert');\n",
              "        buttonEl.style.display =\n",
              "          google.colab.kernel.accessAllowed ? 'block' : 'none';\n",
              "\n",
              "        async function convertToInteractive(key) {\n",
              "          const element = document.querySelector('#df-611efede-9882-4b4e-926c-d91c2ae3978d');\n",
              "          const dataTable =\n",
              "            await google.colab.kernel.invokeFunction('convertToInteractive',\n",
              "                                                     [key], {});\n",
              "          if (!dataTable) return;\n",
              "\n",
              "          const docLinkHtml = 'Like what you see? Visit the ' +\n",
              "            '<a target=\"_blank\" href=https://colab.research.google.com/notebooks/data_table.ipynb>data table notebook</a>'\n",
              "            + ' to learn more about interactive tables.';\n",
              "          element.innerHTML = '';\n",
              "          dataTable['output_type'] = 'display_data';\n",
              "          await google.colab.output.renderOutput(dataTable, element);\n",
              "          const docLink = document.createElement('div');\n",
              "          docLink.innerHTML = docLinkHtml;\n",
              "          element.appendChild(docLink);\n",
              "        }\n",
              "      </script>\n",
              "    </div>\n",
              "  </div>\n",
              "  "
            ]
          },
          "metadata": {},
          "execution_count": 22
        }
      ]
    },
    {
      "cell_type": "code",
      "source": [
        "#lo mismo para test\n",
        "\n",
        "\n",
        "X_test = df_test\n",
        "y_test = df_submission['Survived']\n",
        "\n",
        "X_test.drop(['PassengerId', 'Name', 'Ticket', 'Cabin'],axis=1, inplace=True)\n",
        "\n",
        "X_array_enc_test = preprocessor.transform(X_test)\n",
        "\n",
        "#genero nombres de columnas\n",
        "columns_enc = np.append(X_test.select_dtypes(exclude='object').columns, preprocessor.named_transformers_['cat']['ohe'].get_feature_names_out(cat_col))\n",
        "X_test_enc = pd.DataFrame(X_array_enc_test, columns = columns_enc)\n",
        "X_test_enc"
      ],
      "metadata": {
        "id": "Tv5Kzh1lWiPC",
        "colab": {
          "base_uri": "https://localhost:8080/",
          "height": 424
        },
        "outputId": "97b75a06-0a1b-4968-d6c2-51ef7be546e0"
      },
      "execution_count": null,
      "outputs": [
        {
          "output_type": "execute_result",
          "data": {
            "text/plain": [
              "     Pclass       Age  SibSp     Parch      Fare  Sex_male  Embarked_Q  \\\n",
              "0       1.0  0.428248  0.000  0.000000  0.015282       1.0         1.0   \n",
              "1       1.0  0.585323  0.125  0.000000  0.013663       0.0         0.0   \n",
              "2       0.5  0.773813  0.000  0.000000  0.018909       1.0         1.0   \n",
              "3       1.0  0.334004  0.000  0.000000  0.016908       1.0         0.0   \n",
              "4       1.0  0.271174  0.125  0.166667  0.023984       0.0         0.0   \n",
              "..      ...       ...    ...       ...       ...       ...         ...   \n",
              "413     1.0  0.346569  0.000  0.000000  0.015713       1.0         0.0   \n",
              "414     0.0  0.484795  0.000  0.000000  0.212559       0.0         0.0   \n",
              "415     1.0  0.478512  0.000  0.000000  0.014151       1.0         0.0   \n",
              "416     1.0  0.346569  0.000  0.000000  0.015713       1.0         0.0   \n",
              "417     1.0  0.346569  0.125  0.166667  0.043640       1.0         0.0   \n",
              "\n",
              "     Embarked_S  \n",
              "0           0.0  \n",
              "1           1.0  \n",
              "2           0.0  \n",
              "3           1.0  \n",
              "4           1.0  \n",
              "..          ...  \n",
              "413         1.0  \n",
              "414         0.0  \n",
              "415         1.0  \n",
              "416         1.0  \n",
              "417         0.0  \n",
              "\n",
              "[418 rows x 8 columns]"
            ],
            "text/html": [
              "\n",
              "  <div id=\"df-5c14cf05-69d9-4da2-b815-b3e611e1bbcc\">\n",
              "    <div class=\"colab-df-container\">\n",
              "      <div>\n",
              "<style scoped>\n",
              "    .dataframe tbody tr th:only-of-type {\n",
              "        vertical-align: middle;\n",
              "    }\n",
              "\n",
              "    .dataframe tbody tr th {\n",
              "        vertical-align: top;\n",
              "    }\n",
              "\n",
              "    .dataframe thead th {\n",
              "        text-align: right;\n",
              "    }\n",
              "</style>\n",
              "<table border=\"1\" class=\"dataframe\">\n",
              "  <thead>\n",
              "    <tr style=\"text-align: right;\">\n",
              "      <th></th>\n",
              "      <th>Pclass</th>\n",
              "      <th>Age</th>\n",
              "      <th>SibSp</th>\n",
              "      <th>Parch</th>\n",
              "      <th>Fare</th>\n",
              "      <th>Sex_male</th>\n",
              "      <th>Embarked_Q</th>\n",
              "      <th>Embarked_S</th>\n",
              "    </tr>\n",
              "  </thead>\n",
              "  <tbody>\n",
              "    <tr>\n",
              "      <th>0</th>\n",
              "      <td>1.0</td>\n",
              "      <td>0.428248</td>\n",
              "      <td>0.000</td>\n",
              "      <td>0.000000</td>\n",
              "      <td>0.015282</td>\n",
              "      <td>1.0</td>\n",
              "      <td>1.0</td>\n",
              "      <td>0.0</td>\n",
              "    </tr>\n",
              "    <tr>\n",
              "      <th>1</th>\n",
              "      <td>1.0</td>\n",
              "      <td>0.585323</td>\n",
              "      <td>0.125</td>\n",
              "      <td>0.000000</td>\n",
              "      <td>0.013663</td>\n",
              "      <td>0.0</td>\n",
              "      <td>0.0</td>\n",
              "      <td>1.0</td>\n",
              "    </tr>\n",
              "    <tr>\n",
              "      <th>2</th>\n",
              "      <td>0.5</td>\n",
              "      <td>0.773813</td>\n",
              "      <td>0.000</td>\n",
              "      <td>0.000000</td>\n",
              "      <td>0.018909</td>\n",
              "      <td>1.0</td>\n",
              "      <td>1.0</td>\n",
              "      <td>0.0</td>\n",
              "    </tr>\n",
              "    <tr>\n",
              "      <th>3</th>\n",
              "      <td>1.0</td>\n",
              "      <td>0.334004</td>\n",
              "      <td>0.000</td>\n",
              "      <td>0.000000</td>\n",
              "      <td>0.016908</td>\n",
              "      <td>1.0</td>\n",
              "      <td>0.0</td>\n",
              "      <td>1.0</td>\n",
              "    </tr>\n",
              "    <tr>\n",
              "      <th>4</th>\n",
              "      <td>1.0</td>\n",
              "      <td>0.271174</td>\n",
              "      <td>0.125</td>\n",
              "      <td>0.166667</td>\n",
              "      <td>0.023984</td>\n",
              "      <td>0.0</td>\n",
              "      <td>0.0</td>\n",
              "      <td>1.0</td>\n",
              "    </tr>\n",
              "    <tr>\n",
              "      <th>...</th>\n",
              "      <td>...</td>\n",
              "      <td>...</td>\n",
              "      <td>...</td>\n",
              "      <td>...</td>\n",
              "      <td>...</td>\n",
              "      <td>...</td>\n",
              "      <td>...</td>\n",
              "      <td>...</td>\n",
              "    </tr>\n",
              "    <tr>\n",
              "      <th>413</th>\n",
              "      <td>1.0</td>\n",
              "      <td>0.346569</td>\n",
              "      <td>0.000</td>\n",
              "      <td>0.000000</td>\n",
              "      <td>0.015713</td>\n",
              "      <td>1.0</td>\n",
              "      <td>0.0</td>\n",
              "      <td>1.0</td>\n",
              "    </tr>\n",
              "    <tr>\n",
              "      <th>414</th>\n",
              "      <td>0.0</td>\n",
              "      <td>0.484795</td>\n",
              "      <td>0.000</td>\n",
              "      <td>0.000000</td>\n",
              "      <td>0.212559</td>\n",
              "      <td>0.0</td>\n",
              "      <td>0.0</td>\n",
              "      <td>0.0</td>\n",
              "    </tr>\n",
              "    <tr>\n",
              "      <th>415</th>\n",
              "      <td>1.0</td>\n",
              "      <td>0.478512</td>\n",
              "      <td>0.000</td>\n",
              "      <td>0.000000</td>\n",
              "      <td>0.014151</td>\n",
              "      <td>1.0</td>\n",
              "      <td>0.0</td>\n",
              "      <td>1.0</td>\n",
              "    </tr>\n",
              "    <tr>\n",
              "      <th>416</th>\n",
              "      <td>1.0</td>\n",
              "      <td>0.346569</td>\n",
              "      <td>0.000</td>\n",
              "      <td>0.000000</td>\n",
              "      <td>0.015713</td>\n",
              "      <td>1.0</td>\n",
              "      <td>0.0</td>\n",
              "      <td>1.0</td>\n",
              "    </tr>\n",
              "    <tr>\n",
              "      <th>417</th>\n",
              "      <td>1.0</td>\n",
              "      <td>0.346569</td>\n",
              "      <td>0.125</td>\n",
              "      <td>0.166667</td>\n",
              "      <td>0.043640</td>\n",
              "      <td>1.0</td>\n",
              "      <td>0.0</td>\n",
              "      <td>0.0</td>\n",
              "    </tr>\n",
              "  </tbody>\n",
              "</table>\n",
              "<p>418 rows × 8 columns</p>\n",
              "</div>\n",
              "      <button class=\"colab-df-convert\" onclick=\"convertToInteractive('df-5c14cf05-69d9-4da2-b815-b3e611e1bbcc')\"\n",
              "              title=\"Convert this dataframe to an interactive table.\"\n",
              "              style=\"display:none;\">\n",
              "        \n",
              "  <svg xmlns=\"http://www.w3.org/2000/svg\" height=\"24px\"viewBox=\"0 0 24 24\"\n",
              "       width=\"24px\">\n",
              "    <path d=\"M0 0h24v24H0V0z\" fill=\"none\"/>\n",
              "    <path d=\"M18.56 5.44l.94 2.06.94-2.06 2.06-.94-2.06-.94-.94-2.06-.94 2.06-2.06.94zm-11 1L8.5 8.5l.94-2.06 2.06-.94-2.06-.94L8.5 2.5l-.94 2.06-2.06.94zm10 10l.94 2.06.94-2.06 2.06-.94-2.06-.94-.94-2.06-.94 2.06-2.06.94z\"/><path d=\"M17.41 7.96l-1.37-1.37c-.4-.4-.92-.59-1.43-.59-.52 0-1.04.2-1.43.59L10.3 9.45l-7.72 7.72c-.78.78-.78 2.05 0 2.83L4 21.41c.39.39.9.59 1.41.59.51 0 1.02-.2 1.41-.59l7.78-7.78 2.81-2.81c.8-.78.8-2.07 0-2.86zM5.41 20L4 18.59l7.72-7.72 1.47 1.35L5.41 20z\"/>\n",
              "  </svg>\n",
              "      </button>\n",
              "      \n",
              "  <style>\n",
              "    .colab-df-container {\n",
              "      display:flex;\n",
              "      flex-wrap:wrap;\n",
              "      gap: 12px;\n",
              "    }\n",
              "\n",
              "    .colab-df-convert {\n",
              "      background-color: #E8F0FE;\n",
              "      border: none;\n",
              "      border-radius: 50%;\n",
              "      cursor: pointer;\n",
              "      display: none;\n",
              "      fill: #1967D2;\n",
              "      height: 32px;\n",
              "      padding: 0 0 0 0;\n",
              "      width: 32px;\n",
              "    }\n",
              "\n",
              "    .colab-df-convert:hover {\n",
              "      background-color: #E2EBFA;\n",
              "      box-shadow: 0px 1px 2px rgba(60, 64, 67, 0.3), 0px 1px 3px 1px rgba(60, 64, 67, 0.15);\n",
              "      fill: #174EA6;\n",
              "    }\n",
              "\n",
              "    [theme=dark] .colab-df-convert {\n",
              "      background-color: #3B4455;\n",
              "      fill: #D2E3FC;\n",
              "    }\n",
              "\n",
              "    [theme=dark] .colab-df-convert:hover {\n",
              "      background-color: #434B5C;\n",
              "      box-shadow: 0px 1px 3px 1px rgba(0, 0, 0, 0.15);\n",
              "      filter: drop-shadow(0px 1px 2px rgba(0, 0, 0, 0.3));\n",
              "      fill: #FFFFFF;\n",
              "    }\n",
              "  </style>\n",
              "\n",
              "      <script>\n",
              "        const buttonEl =\n",
              "          document.querySelector('#df-5c14cf05-69d9-4da2-b815-b3e611e1bbcc button.colab-df-convert');\n",
              "        buttonEl.style.display =\n",
              "          google.colab.kernel.accessAllowed ? 'block' : 'none';\n",
              "\n",
              "        async function convertToInteractive(key) {\n",
              "          const element = document.querySelector('#df-5c14cf05-69d9-4da2-b815-b3e611e1bbcc');\n",
              "          const dataTable =\n",
              "            await google.colab.kernel.invokeFunction('convertToInteractive',\n",
              "                                                     [key], {});\n",
              "          if (!dataTable) return;\n",
              "\n",
              "          const docLinkHtml = 'Like what you see? Visit the ' +\n",
              "            '<a target=\"_blank\" href=https://colab.research.google.com/notebooks/data_table.ipynb>data table notebook</a>'\n",
              "            + ' to learn more about interactive tables.';\n",
              "          element.innerHTML = '';\n",
              "          dataTable['output_type'] = 'display_data';\n",
              "          await google.colab.output.renderOutput(dataTable, element);\n",
              "          const docLink = document.createElement('div');\n",
              "          docLink.innerHTML = docLinkHtml;\n",
              "          element.appendChild(docLink);\n",
              "        }\n",
              "      </script>\n",
              "    </div>\n",
              "  </div>\n",
              "  "
            ]
          },
          "metadata": {},
          "execution_count": 27
        }
      ]
    },
    {
      "cell_type": "code",
      "source": [
        "#verificar nombre de columnas\n",
        "\n",
        "set(X_train_enc.columns) - set(X_test_enc.columns) "
      ],
      "metadata": {
        "colab": {
          "base_uri": "https://localhost:8080/"
        },
        "id": "vm6FbLqjBx1D",
        "outputId": "366fd0c1-23b0-4841-f0d8-3f7ac1f47c85"
      },
      "execution_count": null,
      "outputs": [
        {
          "output_type": "execute_result",
          "data": {
            "text/plain": [
              "set()"
            ]
          },
          "metadata": {},
          "execution_count": 29
        }
      ]
    },
    {
      "cell_type": "code",
      "source": [
        "set(X_train_enc.columns) - set(['Age', 'Fare'])"
      ],
      "metadata": {
        "colab": {
          "base_uri": "https://localhost:8080/"
        },
        "id": "zqyHpOHvB_rb",
        "outputId": "fdff554f-bba3-49f2-acbf-7c0f7d82dd38"
      },
      "execution_count": null,
      "outputs": [
        {
          "output_type": "execute_result",
          "data": {
            "text/plain": [
              "{'Embarked_Q', 'Embarked_S', 'Parch', 'Pclass', 'Sex_male', 'SibSp'}"
            ]
          },
          "metadata": {},
          "execution_count": 30
        }
      ]
    },
    {
      "cell_type": "markdown",
      "source": [
        "En base a estos valores ya trasnformado vamos a trabajar como generalmente lo hacemos.\n",
        "\n",
        "Lo primero y mas importante es que debemos tener un split entre el Train y el test, dado que nosotros trabajaremos sobre el Train.  \n",
        "Alli luego tendremos varias opciones a poder decidir.\n",
        "\n",
        " - Holdout validate\n",
        " - Kfold\n",
        " - LeaveOut\n",
        "\n",
        " Y tenemos una opcion dentro del Kfold donde podemos seleccionar que la separacion sea estratificada \n",
        "\n",
        "\n",
        "Lo mas imporatante ***TRABAJAMOS SOBRE EL X_TRAIN***"
      ],
      "metadata": {
        "id": "-WbSVEqHXRFr"
      }
    },
    {
      "cell_type": "markdown",
      "source": [
        "### HOLDOUT\n",
        "\n",
        "El holdout es un metodo sencillo donde dentro del dataset del train splitemos una parte que denominaremos data_validate, que sera de manera aleatoria una seleccion de un a parte para poder comparar\n",
        "\n",
        "- Ventajas\n",
        "    - Metodo sencillo para poder validar , \n",
        "\n",
        "- Desventajas\n",
        "    - Genera un alto ruido o alto variabilidad en la seleccion de ese dataset para validar ,  puede ser muy diferente a la realidad ese conjunto (problema de varianza)\n",
        "    - Menos informaicion para entrenar"
      ],
      "metadata": {
        "id": "1zJGEiMsX9xi"
      }
    },
    {
      "cell_type": "code",
      "source": [
        "from sklearn.tree import DecisionTreeClassifier\n",
        "from sklearn.metrics import accuracy_score\n",
        "\n",
        "\n",
        "X_train , X_validate, y_train_hold, y_validate = train_test_split(X_train_enc, y_train , test_size=0.1)\n",
        "\n",
        "model = DecisionTreeClassifier(max_depth=1, max_features=2,random_state=7)\n",
        "\n",
        "model.fit(X_train, y_train_hold)\n",
        "\n",
        "pre = model.predict(X_validate)\n",
        "accuracy_score(y_validate, pre)"
      ],
      "metadata": {
        "id": "kvgecXfdYzmw",
        "colab": {
          "base_uri": "https://localhost:8080/"
        },
        "outputId": "24a2cfe6-436c-4bd6-f6ea-69efe38800cf"
      },
      "execution_count": null,
      "outputs": [
        {
          "output_type": "execute_result",
          "data": {
            "text/plain": [
              "0.6222222222222222"
            ]
          },
          "metadata": {},
          "execution_count": 31
        }
      ]
    },
    {
      "cell_type": "markdown",
      "source": [
        "## Kfold\n",
        "\n",
        "Primero que veremos es el K-Fold donde tiene varias particualridades para evaluar donde vamos a ver que tanto nos ayuda a poder mejorar \n",
        "\n",
        "![idea](https://www.aprendemachinelearning.com/wp-content/uploads/2020/02/kfolds_animated.gif)\n",
        "\n",
        "Esto esun proceso iterativo donde va seleccionado parte del datasets en secciones\n",
        "Alli se realiza su entrenamiento y va scoreando cada subconjunto para ver como performa\n",
        "\n",
        "- Ventajas\n",
        "    - Computo de procesamiento, daod que se puede interar en pocas secciones rapidamente. \n",
        "\n",
        "    - Ayuda a [poder balancear mejor el bias y varianza , es decir la poder realizar varios entrenamiento en todo el conjunto y testeando su parte desconocida , ayuda a evaluar si todo el conjunto con la relacion del algoritmo tiene una tendencia mala es su predeccion como tambien en la parte de prediccion en conjunto desconocidos\n",
        "\n",
        "- Desventajas\n",
        "\n",
        "    - No se debeusar para datasets muy grandes , alli solo se ultiliza el holdout dado que la cantidad de datos que van a tener para validar ya alcanza para tener una buena muestra "
      ],
      "metadata": {
        "id": "Urmo6ZLsvk7B"
      }
    },
    {
      "cell_type": "code",
      "source": [
        "#metodo para crossvalidation\n",
        "CV_scores = cross_val_score(model, X_train_enc, y_train, cv=10)\n"
      ],
      "metadata": {
        "id": "MuUdAEAwK10W"
      },
      "execution_count": null,
      "outputs": []
    },
    {
      "cell_type": "code",
      "source": [
        "#lista de todos los entrenamiento de kfold\n",
        "CV_scores"
      ],
      "metadata": {
        "id": "J8OQj2Q_cD_x",
        "colab": {
          "base_uri": "https://localhost:8080/"
        },
        "outputId": "d157b67a-95a2-4f02-fc0a-381fdb44c7bb"
      },
      "execution_count": null,
      "outputs": [
        {
          "output_type": "execute_result",
          "data": {
            "text/plain": [
              "array([0.5       , 0.57303371, 0.53932584, 0.61797753, 0.61797753,\n",
              "       0.66292135, 0.62921348, 0.61797753, 0.62921348, 0.60674157])"
            ]
          },
          "metadata": {},
          "execution_count": 33
        }
      ]
    },
    {
      "cell_type": "code",
      "source": [
        "print(\"Cross validation score es  %.5f ± %0.2f\" % (CV_scores.mean(), CV_scores.std()))"
      ],
      "metadata": {
        "id": "dJAX0HfLcJwx",
        "colab": {
          "base_uri": "https://localhost:8080/"
        },
        "outputId": "1a2a02cc-d579-4405-cc66-e0adf4efc308"
      },
      "execution_count": null,
      "outputs": [
        {
          "output_type": "stream",
          "name": "stdout",
          "text": [
            "Cross validation score es  0.59944 ± 0.05\n"
          ]
        }
      ]
    },
    {
      "cell_type": "code",
      "source": [
        "#ejemplo para estratificado\n",
        "\n",
        "kfold = StratifiedKFold(n_splits=10,shuffle=True)\n",
        "\n",
        "model = DecisionTreeClassifier(max_depth=1 , max_features=2 ,random_state=7)\n",
        "CV_scores = cross_val_score(model, X_train_enc, y_train, cv=kfold)\n",
        "\n",
        "print(\"Cross validation score es  %.5f ± %0.2f\" % (CV_scores.mean(), CV_scores.std()))"
      ],
      "metadata": {
        "id": "AY1YRX_AdYCJ",
        "colab": {
          "base_uri": "https://localhost:8080/"
        },
        "outputId": "5611d8f9-ac18-439a-ef8c-7a77184ca5f2"
      },
      "execution_count": null,
      "outputs": [
        {
          "output_type": "stream",
          "name": "stdout",
          "text": [
            "Cross validation score es  0.60381 ± 0.05\n"
          ]
        }
      ]
    },
    {
      "cell_type": "markdown",
      "source": [
        "##Ejemplo donde determinamos su underfitting o overfitting"
      ],
      "metadata": {
        "id": "IKW8ijzfdlPG"
      }
    },
    {
      "cell_type": "code",
      "source": [
        "!pip install colorama\n",
        "from colorama import Fore"
      ],
      "metadata": {
        "id": "pkX8C7a0dqn2",
        "colab": {
          "base_uri": "https://localhost:8080/"
        },
        "outputId": "e469efe1-31db-4441-c5b7-c75936ba9bcd"
      },
      "execution_count": null,
      "outputs": [
        {
          "output_type": "stream",
          "name": "stdout",
          "text": [
            "Looking in indexes: https://pypi.org/simple, https://us-python.pkg.dev/colab-wheels/public/simple/\n",
            "Collecting colorama\n",
            "  Downloading colorama-0.4.5-py2.py3-none-any.whl (16 kB)\n",
            "Installing collected packages: colorama\n",
            "Successfully installed colorama-0.4.5\n"
          ]
        }
      ]
    },
    {
      "cell_type": "code",
      "source": [
        "\n",
        "def print_scores(model ,X_train , y_train, predictions , cv_splites=10):\n",
        "    \n",
        "    print(Fore.BLUE , \"El promedion de score en el train es  %.5f\" % model.score(X_train, y_train))\n",
        "\n",
        "    #cross validation\n",
        "\n",
        "    CV_scores = cross_val_score(model, X_train, y_train, cv=cv_splites)\n",
        "    \n",
        "    print(Fore.BLACK ,\"Los scores del cross validation son: \\n\",CV_scores)\n",
        "    print(Fore.BLACK ,\"El score minimo es %.3f\" % min(CV_scores))\n",
        "    print(Fore.BLACK ,\"El maximo score es %.3f\" % max(CV_scores))\n",
        "    print(Fore.YELLOW ,\"Cross validation score es  %.5f ± %0.2f\" % (CV_scores.mean(), CV_scores.std()))\n",
        "    print(Fore.RED ,\"El test score es  %.5f \" % accuracy_score(y_test,predictions))"
      ],
      "metadata": {
        "id": "JVrpeAhmLDRu"
      },
      "execution_count": null,
      "outputs": []
    },
    {
      "cell_type": "markdown",
      "source": [
        "#### ejemplo\n",
        "\n",
        "Veamos que conclusiones sacamos"
      ],
      "metadata": {
        "id": "CusJQLqEdyWE"
      }
    },
    {
      "cell_type": "code",
      "source": [
        "model = DecisionTreeClassifier(max_depth=1 , max_features=2 ,random_state=7)\n",
        "model.fit(X_train_enc, y_train)\n",
        "\n",
        "predictions = model.predict(X_test_enc)\n",
        "print_scores(model, X_train_enc, y_train, predictions)"
      ],
      "metadata": {
        "id": "94s51BUuLlSA",
        "colab": {
          "base_uri": "https://localhost:8080/"
        },
        "outputId": "3062e362-cada-4395-9fe4-1cb12beed14b"
      },
      "execution_count": null,
      "outputs": [
        {
          "output_type": "stream",
          "name": "stdout",
          "text": [
            "\u001b[34m El promedion de score en el train es  0.61616\n",
            "\u001b[30m Los scores del cross validation son: \n",
            " [0.5        0.57303371 0.53932584 0.61797753 0.61797753 0.66292135\n",
            " 0.62921348 0.61797753 0.62921348 0.60674157]\n",
            "\u001b[30m El score minimo es 0.500\n",
            "\u001b[30m El maximo score es 0.663\n",
            "\u001b[33m Cross validation score es  0.59944 ± 0.05\n",
            "\u001b[31m El test score es  0.63636 \n"
          ]
        }
      ]
    },
    {
      "cell_type": "markdown",
      "source": [
        "###conclusiones\n",
        "\n",
        "Tengo un modelo underfitting \n",
        "\n",
        "porque alto bias(0.61) y low variance (0.61-0.599)\n"
      ],
      "metadata": {
        "id": "EJ1KRcr4d_cx"
      }
    },
    {
      "cell_type": "code",
      "source": [
        "model = DecisionTreeClassifier(random_state=7)\n",
        "model.fit(X_train_enc, y_train)\n",
        "\n",
        "predictions = model.predict(X_test_enc)\n",
        "print_scores(model, X_train_enc, y_train, predictions)"
      ],
      "metadata": {
        "id": "BgvsUGEkd-kQ",
        "colab": {
          "base_uri": "https://localhost:8080/"
        },
        "outputId": "2675c17f-0151-4697-e75c-b3fa6ba8fea5"
      },
      "execution_count": null,
      "outputs": [
        {
          "output_type": "stream",
          "name": "stdout",
          "text": [
            "\u001b[34m El promedion de score en el train es  0.97980\n",
            "\u001b[30m Los scores del cross validation son: \n",
            " [0.71111111 0.78651685 0.74157303 0.7752809  0.85393258 0.7752809\n",
            " 0.80898876 0.74157303 0.82022472 0.78651685]\n",
            "\u001b[30m El score minimo es 0.711\n",
            "\u001b[30m El maximo score es 0.854\n",
            "\u001b[33m Cross validation score es  0.78010 ± 0.04\n",
            "\u001b[31m El test score es  0.80622 \n"
          ]
        }
      ]
    },
    {
      "cell_type": "markdown",
      "source": [
        "###conclusiones\n",
        "\n",
        "low biaS ( 0.97)\n",
        "high variance (0.97 - 0.78) = 0.l9 \n",
        "\n",
        "OVERFITTING\n"
      ],
      "metadata": {
        "id": "6gEPWlxOeB2p"
      }
    },
    {
      "cell_type": "code",
      "source": [
        "model = DecisionTreeClassifier(max_depth=3,  max_features= 4, random_state=7)\n",
        "model.fit(X_train_enc, y_train)\n",
        "\n",
        "predictions = model.predict(X_test_enc)\n",
        "print_scores(model, X_train_enc, y_train, predictions)"
      ],
      "metadata": {
        "id": "1LPz5OU4d-Tr",
        "colab": {
          "base_uri": "https://localhost:8080/"
        },
        "outputId": "c43daa5e-4f04-44d0-c90c-bbf4b35ab333"
      },
      "execution_count": null,
      "outputs": [
        {
          "output_type": "stream",
          "name": "stdout",
          "text": [
            "\u001b[34m El promedion de score en el train es  0.78676\n",
            "\u001b[30m Los scores del cross validation son: \n",
            " [0.74444444 0.75280899 0.75280899 0.83146067 0.82022472 0.79775281\n",
            " 0.80898876 0.75280899 0.82022472 0.78651685]\n",
            "\u001b[30m El score minimo es 0.744\n",
            "\u001b[30m El maximo score es 0.831\n",
            "\u001b[33m Cross validation score es  0.78680 ± 0.03\n",
            "\u001b[31m El test score es  0.82775 \n"
          ]
        }
      ]
    },
    {
      "cell_type": "markdown",
      "source": [
        "###Conclusiones\n",
        "\n",
        "\n"
      ],
      "metadata": {
        "id": "KRIDmGSfeDjQ"
      }
    },
    {
      "cell_type": "markdown",
      "source": [
        "### LeaveOneOut\n",
        "\n",
        "Es el mismo proceso iterativo , solo que ahora en vez de hacerlo en conjuntos de split , lo que hace es entrenar con casi todo el x_train pero excluyendo una observacion donde se hara la prediccion\n",
        "\n",
        "Se realiza el promedio de todas la iteracciones\n",
        "\n",
        "Con eso itera sobre todo el conjunto\n",
        "\n",
        "- Ventajas\n",
        "    - Al reviasr una a una las predicciones eso hace que No sufra la varianza , dado que es mas exacto en cada iteracion\n",
        "    - Su performance es mas exacta porque toma todo el conjunto de datos casi y por ende no tiende a sobreestimar\n",
        "\n",
        "- Desventaja\n",
        "    - Demasiado computo de proceso , lo cual puede ser interminable\n",
        "\n",
        "![loocv](https://i1.wp.com/dataaspirant.com/wp-content/uploads/2020/12/7-LOOCV-Leave-One-Out-Cross-Validation.png?resize=300%2C225&ssl=1)\n",
        "\n"
      ],
      "metadata": {
        "id": "0rDFQ1nyeMje"
      }
    },
    {
      "cell_type": "code",
      "source": [
        "#conclusiones \n",
        "from sklearn.model_selection import LeaveOneOut\n",
        "cv = LeaveOneOut()\n",
        "\n",
        "#build multiple linear regression model\n",
        "model = DecisionTreeClassifier(max_depth=1 , max_features=2 ,random_state=7)\n",
        "\n",
        "#use LOOCV to evaluate model\n",
        "scores = cross_val_score(model, X_train_enc, y_train,\n",
        "                         cv=cv, n_jobs=-1)"
      ],
      "metadata": {
        "id": "k3Plkxu4Pfjp"
      },
      "execution_count": null,
      "outputs": []
    },
    {
      "cell_type": "code",
      "source": [
        "np.mean(scores)"
      ],
      "metadata": {
        "id": "kcrv_eTDT5Wi"
      },
      "execution_count": null,
      "outputs": []
    },
    {
      "cell_type": "markdown",
      "source": [
        "# Grid Search con CV"
      ],
      "metadata": {
        "id": "Mxl72EA_gn6J"
      }
    },
    {
      "cell_type": "code",
      "source": [
        "##Gridsearch con CV\n",
        "\n",
        "from sklearn.model_selection import GridSearchCV\n",
        "from sklearn.ensemble import RandomForestClassifier\n",
        "\n",
        "\n",
        "# parametros a correr\n",
        "param_grid = {\n",
        "    'max_depth': [3, 4, 5],\n",
        "    'max_features': [3,4,6],\n",
        "    'n_estimators': [100, 200, 300, 1000]\n",
        "}\n",
        "# Create a based model\n",
        "rf = RandomForestClassifier()\n",
        "\n",
        "\n",
        "# Instantiate the grid search model\n",
        "grid_search = GridSearchCV(estimator = rf, param_grid = param_grid, \n",
        "                          cv = 3, n_jobs = -1, verbose = 2)"
      ],
      "metadata": {
        "id": "tFx_hQmBg0WT"
      },
      "execution_count": null,
      "outputs": []
    },
    {
      "cell_type": "code",
      "source": [
        "grid_search.fit(X_train_enc, y_train)"
      ],
      "metadata": {
        "id": "wQDV1QDBhcT5",
        "colab": {
          "base_uri": "https://localhost:8080/"
        },
        "outputId": "d51f7f01-b72c-41c5-9d68-76fbc1a4556a"
      },
      "execution_count": null,
      "outputs": [
        {
          "output_type": "stream",
          "name": "stdout",
          "text": [
            "Fitting 3 folds for each of 36 candidates, totalling 108 fits\n"
          ]
        },
        {
          "output_type": "execute_result",
          "data": {
            "text/plain": [
              "GridSearchCV(cv=3, estimator=RandomForestClassifier(), n_jobs=-1,\n",
              "             param_grid={'max_depth': [3, 4, 5], 'max_features': [3, 4, 6],\n",
              "                         'n_estimators': [100, 200, 300, 1000]},\n",
              "             verbose=2)"
            ]
          },
          "metadata": {},
          "execution_count": 42
        }
      ]
    },
    {
      "cell_type": "code",
      "source": [
        "grid_search.best_score_"
      ],
      "metadata": {
        "id": "diLxPKgfibp2",
        "colab": {
          "base_uri": "https://localhost:8080/"
        },
        "outputId": "bf66b952-c7a2-41ef-fa3b-91b7d9f31096"
      },
      "execution_count": null,
      "outputs": [
        {
          "output_type": "execute_result",
          "data": {
            "text/plain": [
              "0.8260381593714928"
            ]
          },
          "metadata": {},
          "execution_count": 43
        }
      ]
    },
    {
      "cell_type": "code",
      "source": [
        "grid_search.best_params_"
      ],
      "metadata": {
        "id": "XhFQwID0ise0",
        "colab": {
          "base_uri": "https://localhost:8080/"
        },
        "outputId": "e03bfa25-2706-4d2f-fd32-b8c3bc2c88ac"
      },
      "execution_count": null,
      "outputs": [
        {
          "output_type": "execute_result",
          "data": {
            "text/plain": [
              "{'max_depth': 5, 'max_features': 4, 'n_estimators': 200}"
            ]
          },
          "metadata": {},
          "execution_count": 44
        }
      ]
    },
    {
      "cell_type": "code",
      "source": [
        "pd.DataFrame(grid_search.cv_results_).sort_values('rank_test_score', ascending=True).head()"
      ],
      "metadata": {
        "id": "0FvOm2aRiwHF",
        "colab": {
          "base_uri": "https://localhost:8080/",
          "height": 530
        },
        "outputId": "6a8d1795-6ab7-4b53-af57-6aade054e5d2"
      },
      "execution_count": null,
      "outputs": [
        {
          "output_type": "execute_result",
          "data": {
            "text/plain": [
              "    mean_fit_time  std_fit_time  mean_score_time  std_score_time  \\\n",
              "29       0.477740      0.004584         0.045108        0.000373   \n",
              "30       0.724651      0.012581         0.067000        0.002540   \n",
              "24       0.233483      0.004616         0.022669        0.001836   \n",
              "20       0.249325      0.010198         0.024824        0.001005   \n",
              "19       2.325997      0.006963         0.208972        0.002529   \n",
              "\n",
              "   param_max_depth param_max_features param_n_estimators  \\\n",
              "29               5                  4                200   \n",
              "30               5                  4                300   \n",
              "24               5                  3                100   \n",
              "20               4                  6                100   \n",
              "19               4                  4               1000   \n",
              "\n",
              "                                               params  split0_test_score  \\\n",
              "29  {'max_depth': 5, 'max_features': 4, 'n_estimat...           0.818182   \n",
              "30  {'max_depth': 5, 'max_features': 4, 'n_estimat...           0.804714   \n",
              "24  {'max_depth': 5, 'max_features': 3, 'n_estimat...           0.808081   \n",
              "20  {'max_depth': 4, 'max_features': 6, 'n_estimat...           0.814815   \n",
              "19  {'max_depth': 4, 'max_features': 4, 'n_estimat...           0.814815   \n",
              "\n",
              "    split1_test_score  split2_test_score  mean_test_score  std_test_score  \\\n",
              "29           0.838384           0.821549         0.826038        0.008837   \n",
              "30           0.841751           0.828283         0.824916        0.015307   \n",
              "24           0.838384           0.828283         0.824916        0.012598   \n",
              "20           0.831650           0.828283         0.824916        0.007274   \n",
              "19           0.838384           0.821549         0.824916        0.009912   \n",
              "\n",
              "    rank_test_score  \n",
              "29                1  \n",
              "30                2  \n",
              "24                2  \n",
              "20                2  \n",
              "19                2  "
            ],
            "text/html": [
              "\n",
              "  <div id=\"df-68a649f4-cff3-4749-bb24-9823faf0bf7f\">\n",
              "    <div class=\"colab-df-container\">\n",
              "      <div>\n",
              "<style scoped>\n",
              "    .dataframe tbody tr th:only-of-type {\n",
              "        vertical-align: middle;\n",
              "    }\n",
              "\n",
              "    .dataframe tbody tr th {\n",
              "        vertical-align: top;\n",
              "    }\n",
              "\n",
              "    .dataframe thead th {\n",
              "        text-align: right;\n",
              "    }\n",
              "</style>\n",
              "<table border=\"1\" class=\"dataframe\">\n",
              "  <thead>\n",
              "    <tr style=\"text-align: right;\">\n",
              "      <th></th>\n",
              "      <th>mean_fit_time</th>\n",
              "      <th>std_fit_time</th>\n",
              "      <th>mean_score_time</th>\n",
              "      <th>std_score_time</th>\n",
              "      <th>param_max_depth</th>\n",
              "      <th>param_max_features</th>\n",
              "      <th>param_n_estimators</th>\n",
              "      <th>params</th>\n",
              "      <th>split0_test_score</th>\n",
              "      <th>split1_test_score</th>\n",
              "      <th>split2_test_score</th>\n",
              "      <th>mean_test_score</th>\n",
              "      <th>std_test_score</th>\n",
              "      <th>rank_test_score</th>\n",
              "    </tr>\n",
              "  </thead>\n",
              "  <tbody>\n",
              "    <tr>\n",
              "      <th>29</th>\n",
              "      <td>0.477740</td>\n",
              "      <td>0.004584</td>\n",
              "      <td>0.045108</td>\n",
              "      <td>0.000373</td>\n",
              "      <td>5</td>\n",
              "      <td>4</td>\n",
              "      <td>200</td>\n",
              "      <td>{'max_depth': 5, 'max_features': 4, 'n_estimat...</td>\n",
              "      <td>0.818182</td>\n",
              "      <td>0.838384</td>\n",
              "      <td>0.821549</td>\n",
              "      <td>0.826038</td>\n",
              "      <td>0.008837</td>\n",
              "      <td>1</td>\n",
              "    </tr>\n",
              "    <tr>\n",
              "      <th>30</th>\n",
              "      <td>0.724651</td>\n",
              "      <td>0.012581</td>\n",
              "      <td>0.067000</td>\n",
              "      <td>0.002540</td>\n",
              "      <td>5</td>\n",
              "      <td>4</td>\n",
              "      <td>300</td>\n",
              "      <td>{'max_depth': 5, 'max_features': 4, 'n_estimat...</td>\n",
              "      <td>0.804714</td>\n",
              "      <td>0.841751</td>\n",
              "      <td>0.828283</td>\n",
              "      <td>0.824916</td>\n",
              "      <td>0.015307</td>\n",
              "      <td>2</td>\n",
              "    </tr>\n",
              "    <tr>\n",
              "      <th>24</th>\n",
              "      <td>0.233483</td>\n",
              "      <td>0.004616</td>\n",
              "      <td>0.022669</td>\n",
              "      <td>0.001836</td>\n",
              "      <td>5</td>\n",
              "      <td>3</td>\n",
              "      <td>100</td>\n",
              "      <td>{'max_depth': 5, 'max_features': 3, 'n_estimat...</td>\n",
              "      <td>0.808081</td>\n",
              "      <td>0.838384</td>\n",
              "      <td>0.828283</td>\n",
              "      <td>0.824916</td>\n",
              "      <td>0.012598</td>\n",
              "      <td>2</td>\n",
              "    </tr>\n",
              "    <tr>\n",
              "      <th>20</th>\n",
              "      <td>0.249325</td>\n",
              "      <td>0.010198</td>\n",
              "      <td>0.024824</td>\n",
              "      <td>0.001005</td>\n",
              "      <td>4</td>\n",
              "      <td>6</td>\n",
              "      <td>100</td>\n",
              "      <td>{'max_depth': 4, 'max_features': 6, 'n_estimat...</td>\n",
              "      <td>0.814815</td>\n",
              "      <td>0.831650</td>\n",
              "      <td>0.828283</td>\n",
              "      <td>0.824916</td>\n",
              "      <td>0.007274</td>\n",
              "      <td>2</td>\n",
              "    </tr>\n",
              "    <tr>\n",
              "      <th>19</th>\n",
              "      <td>2.325997</td>\n",
              "      <td>0.006963</td>\n",
              "      <td>0.208972</td>\n",
              "      <td>0.002529</td>\n",
              "      <td>4</td>\n",
              "      <td>4</td>\n",
              "      <td>1000</td>\n",
              "      <td>{'max_depth': 4, 'max_features': 4, 'n_estimat...</td>\n",
              "      <td>0.814815</td>\n",
              "      <td>0.838384</td>\n",
              "      <td>0.821549</td>\n",
              "      <td>0.824916</td>\n",
              "      <td>0.009912</td>\n",
              "      <td>2</td>\n",
              "    </tr>\n",
              "  </tbody>\n",
              "</table>\n",
              "</div>\n",
              "      <button class=\"colab-df-convert\" onclick=\"convertToInteractive('df-68a649f4-cff3-4749-bb24-9823faf0bf7f')\"\n",
              "              title=\"Convert this dataframe to an interactive table.\"\n",
              "              style=\"display:none;\">\n",
              "        \n",
              "  <svg xmlns=\"http://www.w3.org/2000/svg\" height=\"24px\"viewBox=\"0 0 24 24\"\n",
              "       width=\"24px\">\n",
              "    <path d=\"M0 0h24v24H0V0z\" fill=\"none\"/>\n",
              "    <path d=\"M18.56 5.44l.94 2.06.94-2.06 2.06-.94-2.06-.94-.94-2.06-.94 2.06-2.06.94zm-11 1L8.5 8.5l.94-2.06 2.06-.94-2.06-.94L8.5 2.5l-.94 2.06-2.06.94zm10 10l.94 2.06.94-2.06 2.06-.94-2.06-.94-.94-2.06-.94 2.06-2.06.94z\"/><path d=\"M17.41 7.96l-1.37-1.37c-.4-.4-.92-.59-1.43-.59-.52 0-1.04.2-1.43.59L10.3 9.45l-7.72 7.72c-.78.78-.78 2.05 0 2.83L4 21.41c.39.39.9.59 1.41.59.51 0 1.02-.2 1.41-.59l7.78-7.78 2.81-2.81c.8-.78.8-2.07 0-2.86zM5.41 20L4 18.59l7.72-7.72 1.47 1.35L5.41 20z\"/>\n",
              "  </svg>\n",
              "      </button>\n",
              "      \n",
              "  <style>\n",
              "    .colab-df-container {\n",
              "      display:flex;\n",
              "      flex-wrap:wrap;\n",
              "      gap: 12px;\n",
              "    }\n",
              "\n",
              "    .colab-df-convert {\n",
              "      background-color: #E8F0FE;\n",
              "      border: none;\n",
              "      border-radius: 50%;\n",
              "      cursor: pointer;\n",
              "      display: none;\n",
              "      fill: #1967D2;\n",
              "      height: 32px;\n",
              "      padding: 0 0 0 0;\n",
              "      width: 32px;\n",
              "    }\n",
              "\n",
              "    .colab-df-convert:hover {\n",
              "      background-color: #E2EBFA;\n",
              "      box-shadow: 0px 1px 2px rgba(60, 64, 67, 0.3), 0px 1px 3px 1px rgba(60, 64, 67, 0.15);\n",
              "      fill: #174EA6;\n",
              "    }\n",
              "\n",
              "    [theme=dark] .colab-df-convert {\n",
              "      background-color: #3B4455;\n",
              "      fill: #D2E3FC;\n",
              "    }\n",
              "\n",
              "    [theme=dark] .colab-df-convert:hover {\n",
              "      background-color: #434B5C;\n",
              "      box-shadow: 0px 1px 3px 1px rgba(0, 0, 0, 0.15);\n",
              "      filter: drop-shadow(0px 1px 2px rgba(0, 0, 0, 0.3));\n",
              "      fill: #FFFFFF;\n",
              "    }\n",
              "  </style>\n",
              "\n",
              "      <script>\n",
              "        const buttonEl =\n",
              "          document.querySelector('#df-68a649f4-cff3-4749-bb24-9823faf0bf7f button.colab-df-convert');\n",
              "        buttonEl.style.display =\n",
              "          google.colab.kernel.accessAllowed ? 'block' : 'none';\n",
              "\n",
              "        async function convertToInteractive(key) {\n",
              "          const element = document.querySelector('#df-68a649f4-cff3-4749-bb24-9823faf0bf7f');\n",
              "          const dataTable =\n",
              "            await google.colab.kernel.invokeFunction('convertToInteractive',\n",
              "                                                     [key], {});\n",
              "          if (!dataTable) return;\n",
              "\n",
              "          const docLinkHtml = 'Like what you see? Visit the ' +\n",
              "            '<a target=\"_blank\" href=https://colab.research.google.com/notebooks/data_table.ipynb>data table notebook</a>'\n",
              "            + ' to learn more about interactive tables.';\n",
              "          element.innerHTML = '';\n",
              "          dataTable['output_type'] = 'display_data';\n",
              "          await google.colab.output.renderOutput(dataTable, element);\n",
              "          const docLink = document.createElement('div');\n",
              "          docLink.innerHTML = docLinkHtml;\n",
              "          element.appendChild(docLink);\n",
              "        }\n",
              "      </script>\n",
              "    </div>\n",
              "  </div>\n",
              "  "
            ]
          },
          "metadata": {},
          "execution_count": 45
        }
      ]
    }
  ]
}